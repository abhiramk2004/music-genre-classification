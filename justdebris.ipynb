{
 "cells": [
  {
   "cell_type": "code",
   "execution_count": null,
   "metadata": {
    "vscode": {
     "languageId": "plaintext"
    }
   },
   "outputs": [],
   "source": [
    "\n",
    "\n",
    "# model = models.Sequential()\n",
    "\n",
    "# # Block 1\n",
    "# model.add(layers.Conv2D(32, (3,3), activation='relu', padding='same', input_shape=(40,130,3), kernel_regularizer=regularizers.l2(0.001)))\n",
    "# model.add(layers.BatchNormalization())\n",
    "# model.add(layers.MaxPooling2D((2,2)))\n",
    "# model.add(layers.Dropout(0.3))\n",
    "\n",
    "# # Block 2\n",
    "# model.add(layers.Conv2D(64, (3,3), activation='relu', padding='same'))\n",
    "# model.add(layers.BatchNormalization())\n",
    "# model.add(layers.MaxPooling2D((2,2)))\n",
    "# model.add(layers.Dropout(0.3))\n",
    "\n",
    "# # Flatten and Dense\n",
    "# #model.add(layers.Flatten())\n",
    "# model.add(layers.GlobalAveragePooling2D())\n",
    "# model.add(layers.Dense(128, activation='relu', kernel_regularizer=regularizers.l2(0.001)))\n",
    "# model.add(layers.BatchNormalization())\n",
    "# model.add(layers.Dropout(0.3))\n",
    "\n",
    "# # Final Output Layer with correct activation\n",
    "# model.add(layers.Dense(10, activation='softmax'))\n",
    "\n",
    "# # Compile\n",
    "# model.compile(\n",
    "#     optimizer=Adam(learning_rate=0.0005),\n",
    "#     loss=tf.keras.losses.SparseCategoricalCrossentropy(),\n",
    "#     metrics=['accuracy']\n",
    "# )\n",
    "\n",
    "# # Callbacks\n",
    "# early_stop = callbacks.EarlyStopping(monitor='val_loss', patience=5, restore_best_weights=True)\n",
    "# reduce_lr = callbacks.ReduceLROnPlateau(monitor='val_loss', factor=0.5, patience=3, verbose=1)\n",
    "\n",
    "# # Train\n",
    "# model.summary()"
   ]
  },
  {
   "cell_type": "code",
   "execution_count": null,
   "metadata": {
    "vscode": {
     "languageId": "plaintext"
    }
   },
   "outputs": [],
   "source": [
    "history = model.fit(\n",
    "    x_train, y_train,\n",
    "    batch_size=32,\n",
    "    validation_data=(x_test, y_test),\n",
    "    epochs=30,\n",
    "    callbacks=[early_stop, reduce_lr]\n",
    ")"
   ]
  },
  {
   "cell_type": "code",
   "execution_count": null,
   "metadata": {
    "vscode": {
     "languageId": "plaintext"
    }
   },
   "outputs": [],
   "source": [
    "plt.figure(figsize=(8, 6))\n",
    "plt.plot(history.history['loss'], label='Training Loss')\n",
    "plt.plot(history.history['val_loss'], label='Validation Loss')\n",
    "plt.grid(True)"
   ]
  },
  {
   "cell_type": "code",
   "execution_count": null,
   "metadata": {
    "vscode": {
     "languageId": "plaintext"
    }
   },
   "outputs": [],
   "source": [
    "model.load_state_dict(torch.load(\"ckpt/withweightdecayclassspecifiedaugmentationwithoriginaloneadded.ckpt\")[\"model_state_dict\"])"
   ]
  }
 ],
 "metadata": {
  "language_info": {
   "name": "python"
  }
 },
 "nbformat": 4,
 "nbformat_minor": 2
}
